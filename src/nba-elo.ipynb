{
 "cells": [
  {
   "cell_type": "code",
   "execution_count": 1,
   "metadata": {},
   "outputs": [],
   "source": [
    "#Import Packages\n",
    "import pandas as pd\n",
    "from datetime import datetime, timedelta\n",
    "import plotly.graph_objs as go\n",
    "\n",
    "#Import Team Data and helper functions\n",
    "from constants import TEAM_TO_TEAM_ABBR, TEAM_SETS, CURRENT_TEAM"
   ]
  },
  {
   "cell_type": "code",
   "execution_count": 2,
   "metadata": {},
   "outputs": [],
   "source": [
    "decades = [1990 + i*10 for i in range(4)] \n",
    "filename_list = ['../data/raw/NBA_' + str(decades[i]) + '-'+ str(decades[i+1]) + '_Game-outcomes.csv' for i in range(len(decades) - 1)]\n",
    "\n",
    "li = []\n",
    "for filename in filename_list:\n",
    "    df = pd.read_csv(filename, index_col=None, header=0)\n",
    "    li.append(df)\n",
    "\n",
    "dec = pd.concat(li, axis=0, ignore_index=True)\n",
    "dec['Date'] = pd.to_datetime(dec['Date'], format=\"%Y-%m-%d\")"
   ]
  },
  {
   "cell_type": "code",
   "execution_count": 3,
   "metadata": {},
   "outputs": [],
   "source": [
    "#Initialise the elo\n",
    "elo = {team[0] : [] for team in CURRENT_TEAM}\n",
    "starting_elo = 1000\n",
    "\n",
    "for team in CURRENT_TEAM:\n",
    "  start = min(dec[\"Date\"].loc[dec[\"Winner\"] == team[0]].min(),dec[\"Date\"].loc[dec[\"Loser\"] == team[0]].min()) - timedelta(days=1)\n",
    "  elo[team[0]].append([start, starting_elo])\n",
    "\n",
    "dec = dec.dropna()\n",
    "\n",
    "#Replace old names\n",
    "replace_key = {}\n",
    "for i in range(len(TEAM_SETS)):\n",
    "  for old_name in TEAM_SETS[i]:\n",
    "    replace_key[old_name] = CURRENT_TEAM[i]\n",
    "\n",
    "dec = dec.replace({col:replace_key for col in [\"Winner\", \"Loser\", \"HomeTeam\"]})"
   ]
  },
  {
   "cell_type": "code",
   "execution_count": 4,
   "metadata": {},
   "outputs": [],
   "source": [
    "#Define ELO Functions\n",
    "\n",
    "def expected_outcome(elo_a,elo_b,m):\n",
    "  #returns E_A\n",
    "  return 1/(1 + 10**((elo_b - elo_a)/m))\n",
    "\n",
    "def update_elo(elo_a, elo_b, s_a, k, m):\n",
    "  return (elo_a + k*(s_a - expected_outcome(elo_a,elo_b,m)))\n",
    "\n",
    "\n",
    "def elo_formula(game, elo,k = 10,m = 400):\n",
    "  winner = game['Winner']\n",
    "  loser = game['Loser']\n",
    "  date = game['Date']\n",
    "\n",
    "  winner_elo = elo[winner][-1][1]\n",
    "  loser_elo = elo[loser][-1][1]\n",
    "  \n",
    "  winner_elo_new = update_elo(winner_elo, loser_elo, 1, k, m)\n",
    "  loser_elo_new = update_elo(loser_elo, winner_elo, 0, k, m)\n",
    "\n",
    "  elo[winner].append([date, winner_elo_new])\n",
    "  elo[loser].append([date, loser_elo_new])\n",
    "\n",
    "  return elo\n"
   ]
  },
  {
   "cell_type": "code",
   "execution_count": 5,
   "metadata": {},
   "outputs": [],
   "source": [
    "\n",
    "for i in range(len(dec)):\n",
    "  elo = elo_formula(dec.iloc[i,:], elo)\n",
    "\n",
    "df = pd.DataFrame()\n",
    "\n",
    "for team in CURRENT_TEAM:\n",
    "  df_team = pd.DataFrame(elo[team[0]])\n",
    "  df_team.columns = ['Date', 'Elo']\n",
    "  df_team['Team'] = team[0]\n",
    "  df = pd.concat([df,df_team])"
   ]
  },
  {
   "cell_type": "code",
   "execution_count": 6,
   "metadata": {},
   "outputs": [],
   "source": [
    "#Generate Plotting Information\n",
    "\n",
    "first  = df['Date'].min()\n",
    "last = df['Date'].max()\n",
    "current = df['Date'].min()\n",
    "job_done = False\n",
    "day_remove = []\n",
    "\n",
    "\n",
    "while not job_done:\n",
    "  if current not in df['Date']:\n",
    "    day_remove.append(current)\n",
    "  \n",
    "  if current == last:\n",
    "    job_done = True\n",
    "  \n",
    "  current +=  timedelta(days=1)\n",
    "\n",
    "#Other\n",
    "dt_all = pd.date_range(start=first,end=last)\n",
    "dt_obs = [d.strftime(\"%Y-%m-%d\") for d in df['Date']]\n",
    "dt_breaks = [d for d in dt_all.strftime(\"%Y-%m-%d\").tolist() if not d in dt_obs]"
   ]
  },
  {
   "cell_type": "code",
   "execution_count": 10,
   "metadata": {},
   "outputs": [],
   "source": [
    "fig = go.Figure()\n",
    "for team in CURRENT_TEAM:\n",
    "  fig.add_trace(go.Scatter(x=df['Date'].loc[df['Team'] == team[0]],\n",
    "                           y=df['Elo'].loc[df['Team'] == team[0]],\n",
    "                    mode='lines',\n",
    "                    # hoverinfo='skip',\n",
    "                    name=team[0]))\n",
    "\n",
    "fig.update_xaxes(\n",
    "    # type = 'category',\n",
    "    # rangeslider_visible=True,\n",
    "    rangebreaks = [dict(values=dt_breaks)],\n",
    "    # range = dt_obs,\n",
    "    # rangeselector=dict(\n",
    "    #     buttons=list([\n",
    "    #         dict(count=1, label=\"1m\", step=\"month\", stepmode=\"backward\"),\n",
    "    #         dict(count=6, label=\"6m\", step=\"month\", stepmode=\"backward\"),\n",
    "    #         dict(count=1, label=\"YTD\", step=\"year\", stepmode=\"todate\"),\n",
    "    #         dict(count=1, label=\"1y\", step=\"year\", stepmode=\"backward\"),\n",
    "    #         dict(step=\"all\")\n",
    "    #     ])\n",
    "    # )\n",
    ")\n",
    "\n",
    "\n",
    "fig.write_html(\"../report/figures/NBA_ELO_Standard_1990-2020.html\")"
   ]
  }
 ],
 "metadata": {
  "interpreter": {
   "hash": "43e0315d86983282d5b5dc10bdd83631f30d62471e8b9001241071f42764be26"
  },
  "kernelspec": {
   "display_name": "Python 3.8.10 64-bit ('venv': venv)",
   "name": "python3"
  },
  "language_info": {
   "codemirror_mode": {
    "name": "ipython",
    "version": 3
   },
   "file_extension": ".py",
   "mimetype": "text/x-python",
   "name": "python",
   "nbconvert_exporter": "python",
   "pygments_lexer": "ipython3",
   "version": "3.8.10"
  },
  "orig_nbformat": 4
 },
 "nbformat": 4,
 "nbformat_minor": 2
}
