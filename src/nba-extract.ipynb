{
 "cells": [
  {
   "cell_type": "code",
   "execution_count": 7,
   "metadata": {},
   "outputs": [],
   "source": [
    "#Import Packages\n",
    "import os\n",
    "import pandas as pd\n",
    "from requests import get\n",
    "from bs4 import BeautifulSoup\n",
    "import lxml\n",
    "import time\n",
    "\n",
    "#Import Team Data and helper functions\n",
    "from constants import TEAM_TO_TEAM_ABBR, TEAM_SETS, CURRENT_TEAM\n",
    "from functions import remove_accents\n",
    "\n",
    "#Silence Warning\n",
    "pd.options.mode.chained_assignment = None "
   ]
  },
  {
   "cell_type": "code",
   "execution_count": 47,
   "metadata": {},
   "outputs": [],
   "source": [
    "def get_team_stats_me(team, season_end_year, team_current):\n",
    "  \n",
    "  r = get(f'https://widgets.sports-reference.com/wg.fcgi?css=1&site=bbr&url=%2Fteams%2F{team}%2F{season_end_year}%2Fgamelog%2F&div=div_tgl_basic')\n",
    "  \n",
    "\n",
    "  if r.status_code==200:\n",
    "\n",
    "    soup = BeautifulSoup(r.content, 'html.parser')\n",
    "    table = soup.find('table')\n",
    "    if table == None:\n",
    "      df = 0 \n",
    "      return df\n",
    "\n",
    "    df = pd.read_html(str(table))[0]\n",
    "\n",
    "    #Playoffs\n",
    "    rp = get(f'https://widgets.sports-reference.com/wg.fcgi?css=1&site=bbr&url=%2Fteams%2F{team}%2F{season_end_year}%2Fgamelog%2F&div=div_tgl_basic_playoffs')\n",
    "    if rp.status_code==200:\n",
    "      soupp = BeautifulSoup(rp.content, 'html.parser')\n",
    "      tablep = soupp.find('table')\n",
    "      if tablep != None:\n",
    "        df_playoffs = pd.read_html(str(tablep))[0]\n",
    "        df = pd.concat([df, df_playoffs])\n",
    "    \n",
    "\n",
    "    df.columns = list(map('_'.join, df.columns.values))\n",
    "\n",
    "    df = df.iloc[: , [2,3, 4, 5, 6, 7, 10, 27, 22, 39]]\n",
    "\n",
    "    # print(df.columns)\n",
    "    df = df.loc[df.iloc[: , 0] != 'Date']\n",
    "    # df = df.dropna()\n",
    "\n",
    "    df.columns =  ['Date', 'Venue','Opp', 'Result', \n",
    "                   'Tm_score', 'Opp_score', 'Team_FG%', \n",
    "                   'Opponent_FG%','Team_TOV','Opponent_TOV']\n",
    "                   \n",
    "\n",
    "\n",
    "    df['Winner'],df['Loser'], df['HomeTeam'],df['MOV'] = None, None, None, None\n",
    "    df['Winner_FG%'],df['Loser_FG%'] =  None, None\n",
    "    df['Winner_TOV'],df['Loser_TOV'] = None, None\n",
    "\n",
    "    # #Fill columns of winners and losers \n",
    "    df['Winner'].loc[df.Result == 'W'], df['Loser'].loc[df.Result == 'L'] = team_current, team_current\n",
    "    df['Winner'].loc[df.Result == 'L'] = df['Opp'].loc[df.Result == 'L']\n",
    "    df['Loser'].loc[df.Result == 'W'] = df['Opp'].loc[df.Result == 'W']\n",
    "\n",
    "    df['Winner_FG%'].loc[df.Result == 'W'] = df['Team_FG%'].loc[df.Result == 'W']\n",
    "    df['Winner_FG%'].loc[df.Result == 'L'] = df['Opponent_FG%'].loc[df.Result == 'L']\n",
    "    df['Loser_FG%'].loc[df.Result == 'L'] = df['Team_FG%'].loc[df.Result == 'L']\n",
    "    df['Loser_FG%'].loc[df.Result == 'W'] = df['Opponent_FG%'].loc[df.Result == 'W']\n",
    "\n",
    "    df['Winner_TOV'].loc[df.Result == 'W'] = df['Team_TOV'].loc[df.Result == 'W']\n",
    "    df['Winner_TOV'].loc[df.Result == 'L'] = df['Opponent_TOV'].loc[df.Result == 'L']\n",
    "    df['Loser_TOV'].loc[df.Result == 'L'] = df['Team_TOV'].loc[df.Result == 'L']\n",
    "    df['Loser_TOV'].loc[df.Result == 'W'] = df['Opponent_TOV'].loc[df.Result == 'W']\n",
    "\n",
    "    #Compute MOV\n",
    "    df['MOV']  = abs(df[['Tm_score', 'Opp_score']].astype(float).diff(axis=1).iloc[: , -1])\n",
    "\n",
    "\n",
    "    # #Compute Home team\n",
    "    df['HomeTeam'].loc[df.Venue != '@'] = team_current\n",
    "    df['HomeTeam'].loc[df.Venue == '@'] = df['Opp'].loc[df.Venue == '@']\n",
    "\n",
    "    # #drop columns\n",
    "    df = df.drop(axis = 1, labels = ['Opp', 'Venue',\n",
    "                                     'Result', 'Tm_score', \n",
    "                                     'Opp_score','Team_FG%', \n",
    "                                     'Opponent_FG%','Team_TOV',\n",
    "                                     'Opponent_TOV'])\n",
    "\n",
    "  return df\n"
   ]
  },
  {
   "cell_type": "code",
   "execution_count": 37,
   "metadata": {},
   "outputs": [
    {
     "ename": "UnboundLocalError",
     "evalue": "local variable 'df' referenced before assignment",
     "output_type": "error",
     "traceback": [
      "\u001b[0;31m---------------------------------------------------------------------------\u001b[0m",
      "\u001b[0;31mUnboundLocalError\u001b[0m                         Traceback (most recent call last)",
      "Cell \u001b[0;32mIn[37], line 4\u001b[0m\n\u001b[1;32m      2\u001b[0m team \u001b[38;5;241m=\u001b[39m \u001b[38;5;124m'\u001b[39m\u001b[38;5;124mHOU\u001b[39m\u001b[38;5;124m'\u001b[39m\n\u001b[1;32m      3\u001b[0m season_end_year \u001b[38;5;241m=\u001b[39m \u001b[38;5;241m1990\u001b[39m\n\u001b[0;32m----> 4\u001b[0m gs \u001b[38;5;241m=\u001b[39m \u001b[43mget_team_stats_me\u001b[49m\u001b[43m(\u001b[49m\u001b[43mteam\u001b[49m\u001b[43m,\u001b[49m\u001b[43m \u001b[49m\u001b[43mseason_end_year\u001b[49m\u001b[43m,\u001b[49m\u001b[43m \u001b[49m\u001b[43mteam\u001b[49m\u001b[43m)\u001b[49m\n\u001b[1;32m      5\u001b[0m gs\u001b[38;5;241m.\u001b[39mhead()\n",
      "Cell \u001b[0;32mIn[36], line 74\u001b[0m, in \u001b[0;36mget_team_stats_me\u001b[0;34m(team, season_end_year, team_current)\u001b[0m\n\u001b[1;32m     67\u001b[0m   \u001b[38;5;66;03m# #drop columns\u001b[39;00m\n\u001b[1;32m     68\u001b[0m   df \u001b[38;5;241m=\u001b[39m df\u001b[38;5;241m.\u001b[39mdrop(axis \u001b[38;5;241m=\u001b[39m \u001b[38;5;241m1\u001b[39m, labels \u001b[38;5;241m=\u001b[39m [\u001b[38;5;124m'\u001b[39m\u001b[38;5;124mOpp\u001b[39m\u001b[38;5;124m'\u001b[39m, \u001b[38;5;124m'\u001b[39m\u001b[38;5;124mVenue\u001b[39m\u001b[38;5;124m'\u001b[39m,\n\u001b[1;32m     69\u001b[0m                                    \u001b[38;5;124m'\u001b[39m\u001b[38;5;124mResult\u001b[39m\u001b[38;5;124m'\u001b[39m, \u001b[38;5;124m'\u001b[39m\u001b[38;5;124mTm_score\u001b[39m\u001b[38;5;124m'\u001b[39m, \n\u001b[1;32m     70\u001b[0m                                    \u001b[38;5;124m'\u001b[39m\u001b[38;5;124mOpp_score\u001b[39m\u001b[38;5;124m'\u001b[39m,\u001b[38;5;124m'\u001b[39m\u001b[38;5;124mTeam_FG\u001b[39m\u001b[38;5;124m%\u001b[39m\u001b[38;5;124m'\u001b[39m, \n\u001b[1;32m     71\u001b[0m                                    \u001b[38;5;124m'\u001b[39m\u001b[38;5;124mOpponent_FG\u001b[39m\u001b[38;5;124m%\u001b[39m\u001b[38;5;124m'\u001b[39m,\u001b[38;5;124m'\u001b[39m\u001b[38;5;124mTeam_TOV\u001b[39m\u001b[38;5;124m'\u001b[39m,\n\u001b[1;32m     72\u001b[0m                                    \u001b[38;5;124m'\u001b[39m\u001b[38;5;124mOpponent_TOV\u001b[39m\u001b[38;5;124m'\u001b[39m])\n\u001b[0;32m---> 74\u001b[0m \u001b[38;5;28;01mreturn\u001b[39;00m \u001b[43mdf\u001b[49m\n",
      "\u001b[0;31mUnboundLocalError\u001b[0m: local variable 'df' referenced before assignment"
     ]
    }
   ],
   "source": [
    "#Lets do a test run\n",
    "team = 'HOU'\n",
    "season_end_year = 1990\n",
    "gs = get_team_stats_me(team, season_end_year, team)\n",
    "gs.head()"
   ]
  },
  {
   "cell_type": "code",
   "execution_count": null,
   "metadata": {},
   "outputs": [],
   "source": [
    "#Running it over all games in whole decades\n",
    "decades = [1950 + i*10 for i in range(8)]\n",
    "\n",
    "for i in range(len(decades) - 1):\n",
    "  decade = pd.DataFrame()   \n",
    "  for season_end_year in range(decades[i],decades[i+1]):\n",
    "    season = pd.DataFrame()   \n",
    "    for (team_list, current_team) in zip(TEAM_SETS, CURRENT_TEAM):\n",
    "      for team in team_list:\n",
    "        time.sleep(3.1)\n",
    "        df = get_team_stats_me(team, season_end_year, current_team[0])\n",
    "        if isinstance(df, pd.DataFrame):\n",
    "          season = pd.concat([season,df])\n",
    "\n",
    "    season = season.drop_duplicates()\n",
    "    season['Date'] = pd.to_datetime(season.Date)\n",
    "    season = season.sort_values(by=['Date'])\n",
    "    decade = decade.append(season)\n",
    "\n",
    "  file_name = 'NBA_' + str(decades[i]) + '-'+ str(decades[i+1]) + '_Game-outcomes.csv'\n",
    "  decade.to_csv(file_name)"
   ]
  },
  {
   "cell_type": "code",
   "execution_count": 30,
   "metadata": {},
   "outputs": [
    {
     "name": "stdout",
     "output_type": "stream",
     "text": [
      "2020\n"
     ]
    },
    {
     "ename": "UnboundLocalError",
     "evalue": "local variable 'df' referenced before assignment",
     "output_type": "error",
     "traceback": [
      "\u001b[0;31m---------------------------------------------------------------------------\u001b[0m",
      "\u001b[0;31mUnboundLocalError\u001b[0m                         Traceback (most recent call last)",
      "Cell \u001b[0;32mIn[30], line 9\u001b[0m\n\u001b[1;32m      7\u001b[0m \u001b[38;5;28;01mfor\u001b[39;00m (team_list, current_team) \u001b[38;5;129;01min\u001b[39;00m \u001b[38;5;28mzip\u001b[39m(TEAM_SETS, CURRENT_TEAM):\n\u001b[1;32m      8\u001b[0m     \u001b[38;5;28;01mfor\u001b[39;00m team \u001b[38;5;129;01min\u001b[39;00m team_list:\n\u001b[0;32m----> 9\u001b[0m         df \u001b[38;5;241m=\u001b[39m \u001b[43mget_team_stats_me\u001b[49m\u001b[43m(\u001b[49m\u001b[43mteam\u001b[49m\u001b[43m,\u001b[49m\u001b[43m \u001b[49m\u001b[43mseason_end_year\u001b[49m\u001b[43m,\u001b[49m\u001b[43m \u001b[49m\u001b[43mcurrent_team\u001b[49m\u001b[43m[\u001b[49m\u001b[38;5;241;43m0\u001b[39;49m\u001b[43m]\u001b[49m\u001b[43m)\u001b[49m\n\u001b[1;32m     10\u001b[0m         \u001b[38;5;28;01mif\u001b[39;00m \u001b[38;5;28misinstance\u001b[39m(df, pd\u001b[38;5;241m.\u001b[39mDataFrame):\n\u001b[1;32m     11\u001b[0m             season \u001b[38;5;241m=\u001b[39m pd\u001b[38;5;241m.\u001b[39mconcat([season,df])\n",
      "Cell \u001b[0;32mIn[29], line 75\u001b[0m, in \u001b[0;36mget_team_stats_me\u001b[0;34m(team, season_end_year, team_current)\u001b[0m\n\u001b[1;32m     68\u001b[0m   \u001b[38;5;28mprint\u001b[39m(df)\n\u001b[1;32m     69\u001b[0m   df \u001b[38;5;241m=\u001b[39m df\u001b[38;5;241m.\u001b[39mdrop(axis \u001b[38;5;241m=\u001b[39m \u001b[38;5;241m1\u001b[39m, labels \u001b[38;5;241m=\u001b[39m [\u001b[38;5;124m'\u001b[39m\u001b[38;5;124mOpp\u001b[39m\u001b[38;5;124m'\u001b[39m, \u001b[38;5;124m'\u001b[39m\u001b[38;5;124mVenue\u001b[39m\u001b[38;5;124m'\u001b[39m,\n\u001b[1;32m     70\u001b[0m                                    \u001b[38;5;124m'\u001b[39m\u001b[38;5;124mResult\u001b[39m\u001b[38;5;124m'\u001b[39m, \u001b[38;5;124m'\u001b[39m\u001b[38;5;124mTm_score\u001b[39m\u001b[38;5;124m'\u001b[39m, \n\u001b[1;32m     71\u001b[0m                                    \u001b[38;5;124m'\u001b[39m\u001b[38;5;124mOpp_score\u001b[39m\u001b[38;5;124m'\u001b[39m,\u001b[38;5;124m'\u001b[39m\u001b[38;5;124mTeam_FG\u001b[39m\u001b[38;5;124m%\u001b[39m\u001b[38;5;124m'\u001b[39m, \n\u001b[1;32m     72\u001b[0m                                    \u001b[38;5;124m'\u001b[39m\u001b[38;5;124mOpponent_FG\u001b[39m\u001b[38;5;124m%\u001b[39m\u001b[38;5;124m'\u001b[39m,\u001b[38;5;124m'\u001b[39m\u001b[38;5;124mTeam_TOV\u001b[39m\u001b[38;5;124m'\u001b[39m,\n\u001b[1;32m     73\u001b[0m                                    \u001b[38;5;124m'\u001b[39m\u001b[38;5;124mOpponent_TOV\u001b[39m\u001b[38;5;124m'\u001b[39m])\n\u001b[0;32m---> 75\u001b[0m \u001b[38;5;28;01mreturn\u001b[39;00m \u001b[43mdf\u001b[49m\n",
      "\u001b[0;31mUnboundLocalError\u001b[0m: local variable 'df' referenced before assignment"
     ]
    }
   ],
   "source": [
    "#Running it over all games in whole decades\n",
    "current_decade = [2020,2021,2022]\n",
    "decade = pd.DataFrame()   \n",
    "for season_end_year in current_decade:\n",
    "    print(season_end_year)\n",
    "    season = pd.DataFrame()   \n",
    "    for (team_list, current_team) in zip(TEAM_SETS, CURRENT_TEAM):\n",
    "        for team in team_list:\n",
    "            df = get_team_stats_me(team, season_end_year, current_team[0])\n",
    "            if isinstance(df, pd.DataFrame):\n",
    "                season = pd.concat([season,df])\n",
    "\n",
    "    season = season.drop_duplicates()\n",
    "    season['Date'] = pd.to_datetime(season.Date)\n",
    "    season = season.sort_values(by=['Date'])\n",
    "    decade = decade.append(season)\n",
    "\n",
    "# file_name = '../data/raw/NBA_' + str(current_decade[0]) + '-'+ str(current_decade[-1]) + '_Game-outcomes.csv'\n",
    "# decade.to_csv(file_name)"
   ]
  },
  {
   "cell_type": "code",
   "execution_count": null,
   "metadata": {},
   "outputs": [],
   "source": [
    "file_name = '../data/raw/NBA_' + str(current_decade[0]) + '-'+ str(current_decade[-1]) + '_Game-outcomes.csv'\n",
    "decade.to_csv(file_name)"
   ]
  }
 ],
 "metadata": {
  "interpreter": {
   "hash": "43e0315d86983282d5b5dc10bdd83631f30d62471e8b9001241071f42764be26"
  },
  "kernelspec": {
   "display_name": "Python 3.8.10 64-bit ('venv': venv)",
   "name": "python3"
  },
  "language_info": {
   "codemirror_mode": {
    "name": "ipython",
    "version": 3
   },
   "file_extension": ".py",
   "mimetype": "text/x-python",
   "name": "python",
   "nbconvert_exporter": "python",
   "pygments_lexer": "ipython3",
   "version": "3.8.10"
  },
  "orig_nbformat": 4
 },
 "nbformat": 4,
 "nbformat_minor": 2
}
